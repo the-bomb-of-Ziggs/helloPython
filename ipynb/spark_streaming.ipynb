{
 "cells": [
  {
   "cell_type": "code",
   "execution_count": 1,
   "metadata": {},
   "outputs": [],
   "source": [
    "#encoding=utf8\n",
    "from pyspark import SparkContext\n",
    "from pyspark import SparkConf\n",
    "from pyspark.streaming import StreamingContext\n",
    "from pyspark.streaming.kafka import KafkaUtils\n",
    "from pyspark.sql import SparkSession"
   ]
  },
  {
   "cell_type": "code",
   "execution_count": 2,
   "metadata": {},
   "outputs": [],
   "source": [
    "\n",
    "spark = SparkSession.builder.appName('spark_sql_demo').getOrCreate()\n",
    "sc = spark.sparkContext\n",
    "\n"
   ]
  },
  {
   "cell_type": "code",
   "execution_count": 3,
   "metadata": {},
   "outputs": [],
   "source": [
    "ssc = StreamingContext(sc, 5)\n",
    "propertites={\n",
    "#     'bootstrap.servers':'192.168.1.104:9092',\n",
    "    \"auto.offset.reset\": \"largest\" #这个是错的但是并没有报错，说明ssc应该是没有运行的\n",
    "}\n",
    "kafka_strem_context = KafkaUtils.createStream(ssc,\"192.168.1.104:2181\",\"streaming_consumer_001\",{\"streaming_demo01\":1},kafkaParams=propertites)\n",
    "\n",
    "\n",
    "# ssc = StreamingContext(sc, 1)\n",
    "# propertites={\n",
    "# #     'bootstrap.servers':'192.168.1.104:9092',\n",
    "#     \"auto.offset.reset\": \"largest\"\n",
    "# }\n",
    "# kafka_strem_context = KafkaUtils.createStream(ssc,\"192.168.1.104:2181\",\"streaming_consumer_001\",{\"streaming_demo01\":1})\n",
    "\n"
   ]
  },
  {
   "cell_type": "code",
   "execution_count": 4,
   "metadata": {},
   "outputs": [],
   "source": [
    "ss = kafka_strem_context.map(lambda x: x[1]).map(lambda x: (x.split(\"||\")[0],x.split(\"||\")[1])).reduceByKey(lambda a,b:a+b)"
   ]
  },
  {
   "cell_type": "code",
   "execution_count": 5,
   "metadata": {},
   "outputs": [
    {
     "name": "stdout",
     "output_type": "stream",
     "text": [
      "None\n"
     ]
    }
   ],
   "source": [
    "print(kafka_strem_context.pprint()) #为什么一直没输出呢？难道jupyter不适合做流数据处理？"
   ]
  },
  {
   "cell_type": "code",
   "execution_count": 6,
   "metadata": {},
   "outputs": [
    {
     "name": "stdout",
     "output_type": "stream",
     "text": [
      "None\n"
     ]
    }
   ],
   "source": [
    "print(ss.pprint())"
   ]
  },
  {
   "cell_type": "code",
   "execution_count": 7,
   "metadata": {},
   "outputs": [],
   "source": [
    "def toredis(rdd):\n",
    "    import redis\n",
    "    rclient = redis.Redis(host=\"127.0.0.1\", port=6379)\n",
    "    for y in rdd:\n",
    "        print(y)\n",
    "        print(y[0],y[1])\n",
    "        rclient.incrby(y[0],y[1])"
   ]
  },
  {
   "cell_type": "code",
   "execution_count": 8,
   "metadata": {},
   "outputs": [
    {
     "name": "stdout",
     "output_type": "stream",
     "text": [
      "['qqq', 20]\n",
      "qqq 20\n"
     ]
    }
   ],
   "source": [
    "toredis([[\"qqq\",20]])"
   ]
  },
  {
   "cell_type": "code",
   "execution_count": 9,
   "metadata": {},
   "outputs": [],
   "source": [
    "kafka_strem_context.map(lambda x: x[1]).map(lambda x: (x.split(\"||\")[0],x.split(\"||\")[1])).reduceByKey(lambda a,b:a+b).foreachRDD(lambda q:q.foreachPartition(toredis))"
   ]
  },
  {
   "cell_type": "code",
   "execution_count": 11,
   "metadata": {},
   "outputs": [],
   "source": [
    "ssc.start()#必须使用这个显式启动才能有效果\n",
    "#运行报错： java.lang.NoClassDefFoundError: org/apache/spark/internal/Logging$class"
   ]
  },
  {
   "cell_type": "code",
   "execution_count": null,
   "metadata": {},
   "outputs": [],
   "source": [
    "ssc.awaitTermination()\n",
    "sparkcontext.stop()"
   ]
  },
  {
   "cell_type": "code",
   "execution_count": null,
   "metadata": {},
   "outputs": [],
   "source": []
  }
 ],
 "metadata": {
  "kernelspec": {
   "display_name": "Python 3",
   "language": "python",
   "name": "python3"
  },
  "language_info": {
   "codemirror_mode": {
    "name": "ipython",
    "version": 3
   },
   "file_extension": ".py",
   "mimetype": "text/x-python",
   "name": "python",
   "nbconvert_exporter": "python",
   "pygments_lexer": "ipython3",
   "version": "3.6.8"
  }
 },
 "nbformat": 4,
 "nbformat_minor": 2
}
