{
 "cells": [
  {
   "cell_type": "code",
   "execution_count": 1,
   "metadata": {},
   "outputs": [
    {
     "name": "stdout",
     "output_type": "stream",
     "text": [
      "   userId  movieId  rating   timestamp\n",
      "0       1        2     3.5  1112486027\n",
      "1       1       29     3.5  1112484676\n",
      "2       1       32     3.5  1112484819\n",
      "3       1       47     3.5  1112484727\n",
      "4       1       50     3.5  1112484580\n"
     ]
    }
   ],
   "source": [
    "# encoding=utf8\n",
    "import pickle\n",
    "from sklearn.externals import joblib\n",
    "from sklearn import datasets\n",
    "import pandas\n",
    "from sklearn.decomposition import PCA\n",
    "import numpy as np\n",
    "import matplotlib.pyplot as plt\n",
    "import os.path\n",
    "\n",
    "dataset_path = r'E:\\dataset\\ml-20m'\n",
    "\n",
    "pandas.set_option('display.max_rows',500)\n",
    "pandas.set_option('display.max_columns',500)\n",
    "pandas.set_option('display.width',1000)\n",
    "source = pandas.read_csv(os.path.join(dataset_path,\"ratings20000.csv\"),sep=\",\",nrows=50000)\n",
    "print(source.head())"
   ]
  },
  {
   "cell_type": "code",
   "execution_count": 3,
   "metadata": {},
   "outputs": [
    {
     "name": "stdout",
     "output_type": "stream",
     "text": [
      "   userId  movieId  rating\n",
      "0       1        2     3.5\n",
      "1       1       29     3.5\n",
      "2       1       32     3.5\n",
      "3       1       47     3.5\n",
      "4       1       50     3.5\n"
     ]
    }
   ],
   "source": [
    "source.drop(['timestamp'],axis=1,inplace=True)\n",
    "print(source.head())"
   ]
  },
  {
   "cell_type": "code",
   "execution_count": 4,
   "metadata": {},
   "outputs": [],
   "source": [
    "target_data = source.pop('rating')"
   ]
  },
  {
   "cell_type": "code",
   "execution_count": 5,
   "metadata": {},
   "outputs": [],
   "source": [
    "from sklearn.model_selection import train_test_split\n",
    "from sklearn.neighbors import KNeighborsClassifier\n",
    "from sklearn.svm import SVC\n",
    "from sklearn.linear_model import LogisticRegression\n",
    "from sklearn.tree import DecisionTreeClassifier\n",
    "from sklearn.naive_bayes import GaussianNB\n",
    "from sklearn.naive_bayes import MultinomialNB\n"
   ]
  },
  {
   "cell_type": "code",
   "execution_count": 6,
   "metadata": {},
   "outputs": [],
   "source": [
    "train_X, test_X, train_y, test_y = train_test_split(source, target_data,train_size=0.8,test_size=0.2,random_state=50)"
   ]
  },
  {
   "cell_type": "code",
   "execution_count": 54,
   "metadata": {},
   "outputs": [
    {
     "name": "stdout",
     "output_type": "stream",
     "text": [
      "0    3.5\n",
      "1    3.5\n",
      "2    3.5\n",
      "3    3.5\n",
      "4    3.5\n",
      "Name: rating, dtype: float64\n"
     ]
    }
   ],
   "source": [
    "print(target_data.head(5))"
   ]
  },
  {
   "cell_type": "code",
   "execution_count": 55,
   "metadata": {},
   "outputs": [
    {
     "name": "stdout",
     "output_type": "stream",
     "text": [
      "   rating\n",
      "0     3.5\n",
      "1     3.5\n",
      "2     3.5\n",
      "3     3.5\n",
      "4     3.5\n"
     ]
    }
   ],
   "source": [
    "target_df = pandas.DataFrame({'rating':target_data})#需要先重组成dataframe，不然会报错\n",
    "print(target_df.head())"
   ]
  },
  {
   "cell_type": "code",
   "execution_count": 22,
   "metadata": {},
   "outputs": [],
   "source": [
    "train_X, test_X, train_y, test_y = train_test_split(source, target_data,train_size=0.8,test_size=0.2,random_state=50)"
   ]
  },
  {
   "cell_type": "code",
   "execution_count": 50,
   "metadata": {},
   "outputs": [
    {
     "name": "stdout",
     "output_type": "stream",
     "text": [
      "-------------knn model ----------------\n"
     ]
    }
   ],
   "source": [
    "print('-------------knn model ----------------')\n",
    "knn_clf = KNeighborsClassifier().fit(train_X, train_y.astype('int')) #报错  Unknown label type: 'continuous'\n",
    "pred_y01 = knn_clf.predict(test_X)\n"
   ]
  },
  {
   "cell_type": "code",
   "execution_count": 36,
   "metadata": {},
   "outputs": [
    {
     "name": "stdout",
     "output_type": "stream",
     "text": [
      "[3 3 3 ... 2 3 3]\n",
      "model score is： 0.316\n"
     ]
    }
   ],
   "source": [
    "print(pred_y01)\n",
    "# print(test_y)\n",
    "print('model score is：',knn_clf.score(test_X, test_y.astype('int')))#打出来的预测低得令人失望。。。。，不知道为什么astype只能是int，不能是float64，或者float"
   ]
  },
  {
   "cell_type": "code",
   "execution_count": 53,
   "metadata": {},
   "outputs": [
    {
     "name": "stdout",
     "output_type": "stream",
     "text": [
      "       userId  movieId\n",
      "13458     116     1265\n",
      "2792       24     2431\n",
      "11130     101      165\n",
      "2134       20     3785\n",
      "10475      96     1265\n"
     ]
    }
   ],
   "source": [
    "print(train_X.head(5))"
   ]
  },
  {
   "cell_type": "code",
   "execution_count": 45,
   "metadata": {},
   "outputs": [
    {
     "name": "stdout",
     "output_type": "stream",
     "text": [
      "(15999, 2)\n"
     ]
    }
   ],
   "source": [
    "print(train_X.shape)"
   ]
  },
  {
   "cell_type": "code",
   "execution_count": 48,
   "metadata": {},
   "outputs": [
    {
     "name": "stdout",
     "output_type": "stream",
     "text": [
      "[3]\n"
     ]
    }
   ],
   "source": [
    "#import numpy.array as array\n",
    "print(knn_clf.predict([[2,29]]))#由于上面数据类型是int所以预测出来的结果严重偏移了"
   ]
  },
  {
   "cell_type": "code",
   "execution_count": 51,
   "metadata": {},
   "outputs": [
    {
     "name": "stdout",
     "output_type": "stream",
     "text": [
      "userId     int64\n",
      "movieId    int64\n",
      "dtype: object\n"
     ]
    }
   ],
   "source": [
    "print(source.dtypes) "
   ]
  },
  {
   "cell_type": "code",
   "execution_count": 52,
   "metadata": {},
   "outputs": [
    {
     "name": "stdout",
     "output_type": "stream",
     "text": [
      "float64\n"
     ]
    }
   ],
   "source": [
    "print(target_data.dtypes)"
   ]
  },
  {
   "cell_type": "code",
   "execution_count": null,
   "metadata": {},
   "outputs": [],
   "source": [
    "#总结时间：\n",
    "使用pandas加载数据然后进行切分，扔到sklearn的算法里面就可以计算了，还是很简单的，但是不能加载浮点型数据非要转成int是一个硬伤。。。"
   ]
  }
 ],
 "metadata": {
  "kernelspec": {
   "display_name": "Python 3",
   "language": "python",
   "name": "python3"
  },
  "language_info": {
   "codemirror_mode": {
    "name": "ipython",
    "version": 3
   },
   "file_extension": ".py",
   "mimetype": "text/x-python",
   "name": "python",
   "nbconvert_exporter": "python",
   "pygments_lexer": "ipython3",
   "version": "3.6.8"
  }
 },
 "nbformat": 4,
 "nbformat_minor": 2
}
